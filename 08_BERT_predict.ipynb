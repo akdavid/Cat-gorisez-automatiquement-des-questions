{
 "cells": [
  {
   "cell_type": "code",
   "execution_count": 4,
   "id": "23d919ec",
   "metadata": {},
   "outputs": [
    {
     "name": "stderr",
     "output_type": "stream",
     "text": [
      "/Users/anthonydavid/Documents/Etudes/alternance_ML_engineer/OpenClassrooms/projets/projet_5/.venv/lib/python3.11/site-packages/tqdm/auto.py:21: TqdmWarning: IProgress not found. Please update jupyter and ipywidgets. See https://ipywidgets.readthedocs.io/en/stable/user_install.html\n",
      "  from .autonotebook import tqdm as notebook_tqdm\n"
     ]
    }
   ],
   "source": [
    "import torch\n",
    "from transformers import AutoTokenizer, AutoModelForSequenceClassification\n",
    "import warnings\n",
    "warnings.filterwarnings('ignore')"
   ]
  },
  {
   "cell_type": "code",
   "execution_count": 5,
   "id": "078c8a63",
   "metadata": {},
   "outputs": [
    {
     "name": "stdout",
     "output_type": "stream",
     "text": [
      "mps\n"
     ]
    }
   ],
   "source": [
    "model_path = '/Users/anthonydavid/Documents/Etudes/alternance_ML_engineer/OpenClassrooms/projets/projet_5/2024-08-19_15-10-53-bert-model'\n",
    "\n",
    "# Choix automatique du device\n",
    "if torch.cuda.is_available():\n",
    "    device = 'cuda'\n",
    "elif torch.backends.mps.is_available():\n",
    "    device = 'mps'\n",
    "else:\n",
    "    device = 'cpu'\n",
    "    \n",
    "print(device)"
   ]
  },
  {
   "cell_type": "code",
   "execution_count": 6,
   "id": "b0e52ea8",
   "metadata": {},
   "outputs": [],
   "source": [
    "tokenizer = AutoTokenizer.from_pretrained('bert-base-uncased')\n",
    "model = AutoModelForSequenceClassification.from_pretrained(\n",
    "    model_path\n",
    ")\n",
    "model.to(device);"
   ]
  },
  {
   "cell_type": "code",
   "execution_count": 7,
   "id": "87eb7cff",
   "metadata": {},
   "outputs": [],
   "source": [
    "from transformers import TextClassificationPipeline\n",
    "pipe = TextClassificationPipeline(\n",
    "    model=model, \n",
    "    tokenizer=tokenizer, \n",
    "    return_all_scores=False, \n",
    "    device=device,\n",
    "    task=\"multi_label_classification\",\n",
    "    function_to_apply='sigmoid'\n",
    ")"
   ]
  },
  {
   "cell_type": "code",
   "execution_count": 8,
   "id": "5b4e6b90",
   "metadata": {},
   "outputs": [],
   "source": [
    "example_text = 'i read in tcp ip network administration by o that typing the route n command should bring up a routing table when i typed it into the terminal on a mac it returned the following usage route dnqtv command modifiers args what is the correct command to use to see the routing table in my terminal'"
   ]
  },
  {
   "cell_type": "code",
   "execution_count": 9,
   "id": "92feccd9",
   "metadata": {},
   "outputs": [
    {
     "data": {
      "text/plain": [
       "[{'label': 'javascript', 'score': 0.10410106927156448}]"
      ]
     },
     "execution_count": 9,
     "metadata": {},
     "output_type": "execute_result"
    }
   ],
   "source": [
    "# Apparence des resultats du pipe\n",
    "pipe(example_text)"
   ]
  },
  {
   "cell_type": "code",
   "execution_count": 10,
   "id": "25bdac2c",
   "metadata": {},
   "outputs": [
    {
     "name": "stdout",
     "output_type": "stream",
     "text": [
      "CPU times: user 87.5 ms, sys: 49.3 ms, total: 137 ms\n",
      "Wall time: 427 ms\n"
     ]
    },
    {
     "data": {
      "text/plain": [
       "[{'label': 'python', 'score': 0.5512714385986328},\n",
       " {'label': 'r', 'score': 0.18645761907100677},\n",
       " {'label': 'pandas', 'score': 0.15008153021335602},\n",
       " {'label': 'dataframe', 'score': 0.11528932303190231},\n",
       " {'label': 'numpy', 'score': 0.06310949474573135}]"
      ]
     },
     "execution_count": 10,
     "metadata": {},
     "output_type": "execute_result"
    }
   ],
   "source": [
    "%%time\n",
    "# Apparence des resultats du pipe lorsque l'on demande 5 reponses\n",
    "pipe('how do i install python on arch linux ? i cant understand the docs', top_k=5)"
   ]
  },
  {
   "cell_type": "markdown",
   "id": "2d9a07c3",
   "metadata": {},
   "source": [
    "# Wrapper qui recommandera les resultats les plus pertinents"
   ]
  },
  {
   "cell_type": "code",
   "execution_count": 11,
   "id": "552f3c88",
   "metadata": {},
   "outputs": [],
   "source": [
    "def pred_fn(text, pipeline, thresh=0.5, max_answers=10):\n",
    "    pipe_output = pipeline(text, top_k=max_answers)\n",
    "    recommended_tags = [\n",
    "        dict_output['label'] for dict_output in pipe_output if dict_output['score'] > thresh\n",
    "    ]\n",
    "    \n",
    "    return recommended_tags"
   ]
  },
  {
   "cell_type": "code",
   "execution_count": 12,
   "id": "f1ffce29",
   "metadata": {},
   "outputs": [
    {
     "data": {
      "text/plain": [
       "['python']"
      ]
     },
     "execution_count": 12,
     "metadata": {},
     "output_type": "execute_result"
    }
   ],
   "source": [
    "pred_fn('how do i install python on arch linux ? i cant understand the docs', pipe)"
   ]
  },
  {
   "cell_type": "code",
   "execution_count": 13,
   "id": "36a4ab84",
   "metadata": {},
   "outputs": [
    {
     "data": {
      "text/plain": [
       "[]"
      ]
     },
     "execution_count": 13,
     "metadata": {},
     "output_type": "execute_result"
    }
   ],
   "source": [
    "pred_fn(example_text, pipe)"
   ]
  },
  {
   "cell_type": "markdown",
   "id": "ede81c9e",
   "metadata": {},
   "source": [
    "## Entry Point"
   ]
  },
  {
   "cell_type": "code",
   "execution_count": 14,
   "id": "b8d34d9f",
   "metadata": {},
   "outputs": [],
   "source": [
    "def pred_ep(text):\n",
    "    \"\"\"\n",
    "    Predicts the most relevant tags for a given text.\n",
    "\n",
    "    Args:\n",
    "    - text (str): The input text.\n",
    "\n",
    "    Returns:\n",
    "    - list: A list of recommended tags.\n",
    "    \"\"\"\n",
    "    # Set the threshold and maximum number of answers\n",
    "    thresh = 0.5\n",
    "    max_answers = 10\n",
    "\n",
    "    # Use the pipeline to get predictions\n",
    "    pipe_output = pipe(text, top_k=max_answers)\n",
    "\n",
    "    # Filter the results based on the threshold\n",
    "    recommended_tags = [\n",
    "        dict_output['label'] for dict_output in pipe_output if dict_output['score'] > thresh\n",
    "    ]\n",
    "    \n",
    "    return recommended_tags"
   ]
  },
  {
   "cell_type": "code",
   "execution_count": 15,
   "id": "2e9b12a0",
   "metadata": {},
   "outputs": [
    {
     "name": "stdout",
     "output_type": "stream",
     "text": [
      "['python']\n",
      "[]\n"
     ]
    }
   ],
   "source": [
    "# Test the pred_ep with example inputs\n",
    "print(pred_ep('how do i install python on arch linux? I can’t understand the docs'))\n",
    "print(pred_ep('i read in tcp ip network administration by o that typing the route n command should bring up a routing table when i typed it into the terminal on a mac it returned the following usage route dnqtv command modifiers args what is the correct command to use to see the routing table in my terminal'))"
   ]
  },
  {
   "cell_type": "code",
   "execution_count": null,
   "id": "6b0eb137",
   "metadata": {},
   "outputs": [],
   "source": []
  }
 ],
 "metadata": {
  "kernelspec": {
   "display_name": "Python 3 (ipykernel)",
   "language": "python",
   "name": "python3"
  },
  "language_info": {
   "codemirror_mode": {
    "name": "ipython",
    "version": 3
   },
   "file_extension": ".py",
   "mimetype": "text/x-python",
   "name": "python",
   "nbconvert_exporter": "python",
   "pygments_lexer": "ipython3",
   "version": "3.11.9"
  }
 },
 "nbformat": 4,
 "nbformat_minor": 5
}
