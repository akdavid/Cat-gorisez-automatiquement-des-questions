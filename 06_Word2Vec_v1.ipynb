{
 "cells": [
  {
   "cell_type": "markdown",
   "metadata": {},
   "source": [
    "# Word2Vec pretrained"
   ]
  },
  {
   "cell_type": "markdown",
   "metadata": {},
   "source": [
    "## Cell 1: Imports and Data Loading"
   ]
  },
  {
   "cell_type": "code",
   "execution_count": 1,
   "metadata": {},
   "outputs": [
    {
     "name": "stdout",
     "output_type": "stream",
     "text": [
      "Index(['date', 'title', 'tags', 'score', 'answer_count', 'sentence_bow',\n",
      "       'sentence_bow_lem', 'sentence_dl', 'sentence_use'],\n",
      "      dtype='object')\n"
     ]
    }
   ],
   "source": [
    "import pandas as pd\n",
    "from collections import Counter\n",
    "from sklearn.preprocessing import MultiLabelBinarizer\n",
    "import tensorflow as tf\n",
    "import numpy as np\n",
    "import keras\n",
    "import keras.layers as layers\n",
    "from keras.models import Model\n",
    "import mlflow\n",
    "import mlflow.tensorflow\n",
    "from gensim.models import Word2Vec\n",
    "import gensim.downloader as api\n",
    "\n",
    "# Load train and test datasets\n",
    "df_train = pd.read_csv('stackoverflow_questions_cleaned_train.csv')\n",
    "df_test = pd.read_csv('stackoverflow_questions_cleaned_test.csv')\n",
    "\n",
    "# Print available columns in train dataset\n",
    "print(df_train.columns)\n",
    "\n",
    "# Extract 'sentence_use' column for training and testing\n",
    "X_train_brut = df_train['sentence_bow_lem']\n",
    "X_test_brut = df_test['sentence_bow_lem']"
   ]
  },
  {
   "cell_type": "markdown",
   "metadata": {},
   "source": [
    "## Cell 2: Load or Train Word2Vec Model and Encode Texts"
   ]
  },
  {
   "cell_type": "code",
   "execution_count": 19,
   "metadata": {},
   "outputs": [],
   "source": [
    "# Load a pre-trained Word2Vec model\n",
    "w2v_model = api.load('word2vec-google-news-300')\n",
    "vector_size = 300\n",
    "\n",
    "# Function to encode texts using Word2Vec\n",
    "def encode_texts_w2v(texts, model, vector_size=vector_size):\n",
    "    encoded_texts = []\n",
    "    for text in texts:\n",
    "        tokens = text.split()  # Simple tokenization\n",
    "        vectors = [model[word] for word in tokens if word in model]\n",
    "        if vectors:\n",
    "            encoded_texts.append(np.mean(vectors, axis=0))\n",
    "        else:\n",
    "            encoded_texts.append(np.zeros(vector_size))\n",
    "    return np.array(encoded_texts)"
   ]
  },
  {
   "cell_type": "markdown",
   "metadata": {},
   "source": [
    "## Cell 3: Process Tags (same as USE)"
   ]
  },
  {
   "cell_type": "code",
   "execution_count": 20,
   "metadata": {},
   "outputs": [],
   "source": [
    "# Number of top tags to consider\n",
    "number_of_tags = 50\n",
    "\n",
    "# Create a list of all tags in the training set\n",
    "all_tags = [tag for tags in df_train['tags'].apply(eval) for tag in tags]\n",
    "\n",
    "# Limit tags to the top most frequent\n",
    "top_tags = [tag for tag, count in Counter(all_tags).most_common(number_of_tags)]\n",
    "\n",
    "# Filter tags to keep only the top tags\n",
    "df_train['filtered_tags'] = df_train['tags'].apply(lambda tags: [tag for tag in eval(tags) if tag in top_tags])\n",
    "df_test['filtered_tags'] = df_test['tags'].apply(lambda tags: [tag for tag in eval(tags) if tag in top_tags])\n",
    "\n",
    "# Extract 'sentence_bow_lem' column for training and testing\n",
    "X_train_brut = df_train['sentence_bow_lem']\n",
    "X_test_brut = df_test['sentence_bow_lem']\n",
    "# Encode train and test texts\n",
    "X_train = encode_texts_w2v(X_train_brut, w2v_model)\n",
    "X_test = encode_texts_w2v(X_test_brut, w2v_model)\n",
    "\n",
    "# Remove rows without tags in the training set\n",
    "df_train = df_train[df_train['filtered_tags'].map(len) > 0]\n",
    "\n",
    "# Ensure the lengths are consistent\n",
    "assert X_train.shape[0] == df_train.shape[0], \"Mismatch in number of training samples after filtering\"\n",
    "\n",
    "# Encode tags with MultiLabelBinarizer\n",
    "mlb = MultiLabelBinarizer(classes=top_tags)\n",
    "y_train = mlb.fit_transform(df_train['filtered_tags'])\n",
    "y_test = mlb.transform(df_test['filtered_tags'])\n",
    "\n",
    "# Ensure the lengths are consistent\n",
    "assert y_train.shape[0] == X_train.shape[0], \"Mismatch in number of training samples after encoding\"\n",
    "assert y_test.shape[0] == X_test.shape[0], \"Mismatch in number of testing samples after encoding\""
   ]
  },
  {
   "cell_type": "markdown",
   "metadata": {},
   "source": [
    "## Cell 4: Define Model"
   ]
  },
  {
   "cell_type": "code",
   "execution_count": 21,
   "metadata": {},
   "outputs": [],
   "source": [
    "def create_model(input_shape, number_of_tags, layer_units=[256], activation='relu'):\n",
    "    input_text = layers.Input(shape=input_shape)\n",
    "    \n",
    "    x = input_text\n",
    "    for units in layer_units:\n",
    "        x = layers.Dense(units, activation=activation)(x)\n",
    "    \n",
    "    pred = layers.Dense(number_of_tags, activation='sigmoid')(x)\n",
    "    model = Model(inputs=[input_text], outputs=pred)\n",
    "    model.compile(loss='binary_crossentropy', optimizer='adam',\n",
    "                  metrics=[keras.metrics.F1Score(average='micro', threshold=None, name=\"f1_score_micro\", dtype=None),\n",
    "                           keras.metrics.F1Score(average='weighted', threshold=None, name=\"f1_score_weighted\", dtype=None),\n",
    "                           keras.metrics.MeanIoU(num_classes=number_of_tags),\n",
    "                           'accuracy'])\n",
    "    return model"
   ]
  },
  {
   "cell_type": "markdown",
   "metadata": {},
   "source": [
    "## Cell 5: Train Model"
   ]
  },
  {
   "cell_type": "code",
   "execution_count": 22,
   "metadata": {},
   "outputs": [],
   "source": [
    "def train_model(model, train_data, train_tags, test_data, test_tags, epochs=10, batch_size=32):\n",
    "    history = model.fit(train_data,\n",
    "                        train_tags,\n",
    "                        validation_data=(test_data, test_tags),\n",
    "                        epochs=epochs,\n",
    "                        batch_size=batch_size\n",
    "                        )\n",
    "    return history"
   ]
  },
  {
   "cell_type": "markdown",
   "metadata": {},
   "source": [
    "## Cell 6: Log Model with MLflow"
   ]
  },
  {
   "cell_type": "code",
   "execution_count": 35,
   "metadata": {},
   "outputs": [
    {
     "name": "stdout",
     "output_type": "stream",
     "text": [
      "Epoch 1/10\n",
      "\u001b[1m197/197\u001b[0m \u001b[32m━━━━━━━━━━━━━━━━━━━━\u001b[0m\u001b[37m\u001b[0m \u001b[1m7s\u001b[0m 18ms/step - accuracy: 0.1577 - f1_score_micro: 0.1354 - f1_score_weighted: 0.0504 - loss: 0.2913 - mean_io_u_2: 0.4857 - val_accuracy: 0.3637 - val_f1_score_micro: 0.1454 - val_f1_score_weighted: 0.0452 - val_loss: 0.1006 - val_mean_io_u_2: 0.4888\n",
      "Epoch 2/10\n",
      "\u001b[1m197/197\u001b[0m \u001b[32m━━━━━━━━━━━━━━━━━━━━\u001b[0m\u001b[37m\u001b[0m \u001b[1m4s\u001b[0m 19ms/step - accuracy: 0.2278 - f1_score_micro: 0.1871 - f1_score_weighted: 0.0788 - loss: 0.1175 - mean_io_u_2: 0.4855 - val_accuracy: 0.3697 - val_f1_score_micro: 0.1880 - val_f1_score_weighted: 0.1075 - val_loss: 0.0938 - val_mean_io_u_2: 0.4888\n",
      "Epoch 3/10\n",
      "\u001b[1m197/197\u001b[0m \u001b[32m━━━━━━━━━━━━━━━━━━━━\u001b[0m\u001b[37m\u001b[0m \u001b[1m3s\u001b[0m 17ms/step - accuracy: 0.2842 - f1_score_micro: 0.2478 - f1_score_weighted: 0.1636 - loss: 0.1063 - mean_io_u_2: 0.4857 - val_accuracy: 0.3761 - val_f1_score_micro: 0.2190 - val_f1_score_weighted: 0.1582 - val_loss: 0.0885 - val_mean_io_u_2: 0.4888\n",
      "Epoch 4/10\n",
      "\u001b[1m197/197\u001b[0m \u001b[32m━━━━━━━━━━━━━━━━━━━━\u001b[0m\u001b[37m\u001b[0m \u001b[1m3s\u001b[0m 15ms/step - accuracy: 0.3052 - f1_score_micro: 0.2805 - f1_score_weighted: 0.2127 - loss: 0.1004 - mean_io_u_2: 0.4855 - val_accuracy: 0.3701 - val_f1_score_micro: 0.2579 - val_f1_score_weighted: 0.2069 - val_loss: 0.0844 - val_mean_io_u_2: 0.4888\n",
      "Epoch 5/10\n",
      "\u001b[1m197/197\u001b[0m \u001b[32m━━━━━━━━━━━━━━━━━━━━\u001b[0m\u001b[37m\u001b[0m \u001b[1m3s\u001b[0m 14ms/step - accuracy: 0.3461 - f1_score_micro: 0.3219 - f1_score_weighted: 0.2643 - loss: 0.0948 - mean_io_u_2: 0.4856 - val_accuracy: 0.3577 - val_f1_score_micro: 0.2729 - val_f1_score_weighted: 0.2344 - val_loss: 0.0823 - val_mean_io_u_2: 0.4888\n",
      "Epoch 6/10\n",
      "\u001b[1m197/197\u001b[0m \u001b[32m━━━━━━━━━━━━━━━━━━━━\u001b[0m\u001b[37m\u001b[0m \u001b[1m3s\u001b[0m 15ms/step - accuracy: 0.3556 - f1_score_micro: 0.3429 - f1_score_weighted: 0.2917 - loss: 0.0913 - mean_io_u_2: 0.4856 - val_accuracy: 0.3741 - val_f1_score_micro: 0.2875 - val_f1_score_weighted: 0.2438 - val_loss: 0.0807 - val_mean_io_u_2: 0.4890\n",
      "Epoch 7/10\n",
      "\u001b[1m197/197\u001b[0m \u001b[32m━━━━━━━━━━━━━━━━━━━━\u001b[0m\u001b[37m\u001b[0m \u001b[1m3s\u001b[0m 15ms/step - accuracy: 0.3786 - f1_score_micro: 0.3641 - f1_score_weighted: 0.3170 - loss: 0.0878 - mean_io_u_2: 0.4855 - val_accuracy: 0.3751 - val_f1_score_micro: 0.3011 - val_f1_score_weighted: 0.2685 - val_loss: 0.0795 - val_mean_io_u_2: 0.4892\n",
      "Epoch 8/10\n",
      "\u001b[1m197/197\u001b[0m \u001b[32m━━━━━━━━━━━━━━━━━━━━\u001b[0m\u001b[37m\u001b[0m \u001b[1m3s\u001b[0m 15ms/step - accuracy: 0.3881 - f1_score_micro: 0.3782 - f1_score_weighted: 0.3336 - loss: 0.0841 - mean_io_u_2: 0.4858 - val_accuracy: 0.3527 - val_f1_score_micro: 0.3086 - val_f1_score_weighted: 0.2754 - val_loss: 0.0787 - val_mean_io_u_2: 0.4892\n",
      "Epoch 9/10\n",
      "\u001b[1m197/197\u001b[0m \u001b[32m━━━━━━━━━━━━━━━━━━━━\u001b[0m\u001b[37m\u001b[0m \u001b[1m3s\u001b[0m 15ms/step - accuracy: 0.4025 - f1_score_micro: 0.3981 - f1_score_weighted: 0.3608 - loss: 0.0820 - mean_io_u_2: 0.4859 - val_accuracy: 0.3617 - val_f1_score_micro: 0.3109 - val_f1_score_weighted: 0.2832 - val_loss: 0.0783 - val_mean_io_u_2: 0.4892\n",
      "Epoch 10/10\n",
      "\u001b[1m197/197\u001b[0m \u001b[32m━━━━━━━━━━━━━━━━━━━━\u001b[0m\u001b[37m\u001b[0m \u001b[1m3s\u001b[0m 15ms/step - accuracy: 0.4046 - f1_score_micro: 0.4061 - f1_score_weighted: 0.3689 - loss: 0.0802 - mean_io_u_2: 0.4857 - val_accuracy: 0.3542 - val_f1_score_micro: 0.3226 - val_f1_score_weighted: 0.3020 - val_loss: 0.0779 - val_mean_io_u_2: 0.4892\n"
     ]
    }
   ],
   "source": [
    "layer_units = [256]\n",
    "number_of_layers = len(layer_units)\n",
    "epochs = 10\n",
    "batch_size = 32\n",
    "activation = 'relu'\n",
    "\n",
    "\n",
    "# Log the model and results in MLflow\n",
    "mlflow.set_experiment(\"stackoverflow_multilabel_classification\")\n",
    "\n",
    "mlflow.start_run(run_name=\"Word2Vec_model\")\n",
    "description = f\"Training with Word2Vec for multilabel classification with {number_of_layers} dense layers and units {layer_units}\"\n",
    "mlflow.set_tag(\"mlflow.note.content\", description)\n",
    "\n",
    "# Log parameters\n",
    "mlflow.log_param(\"number_of_tags\", number_of_tags)\n",
    "mlflow.log_param(\"embedder\", \"Universal Sentence Encoder\")\n",
    "mlflow.log_param(\"number_of_layers\", number_of_layers)\n",
    "mlflow.log_param(\"units_per_layer\", layer_units)\n",
    "mlflow.log_param(\"activation\", activation)\n",
    "mlflow.log_param(\"output_activation\", 'sigmoid')\n",
    "mlflow.log_param(\"optimizer\", 'adam')\n",
    "mlflow.log_param(\"loss\", 'binary_crossentropy')\n",
    "mlflow.log_param(\"epochs\", epochs)\n",
    "mlflow.log_param(\"batch_size\", batch_size)\n",
    "mlflow.log_param(\"w2v_model\", 'word2vec-google-news-300')\n",
    "mlflow.log_param(\"vector_size\", vector_size)\n",
    "\n",
    "model = create_model(input_shape=(vector_size,), number_of_tags=number_of_tags, layer_units=layer_units)\n",
    "history = train_model(model, X_train, y_train, X_test, y_test, epochs=epochs, batch_size=batch_size)\n",
    "\n",
    "# # Save model weights\n",
    "model.save_weights('./w2v_model.weights.h5')\n",
    "mlflow.log_artifact('./w2v_model.weights.h5')\n",
    "\n",
    "# mlflow.keras.log_model(model, \"model\")\n",
    "\n",
    "for metric, values in history.history.items():\n",
    "    for epoch, value in enumerate(values):\n",
    "        mlflow.log_metric(metric, value, step=epoch)\n",
    "        \n",
    "mlflow.end_run()"
   ]
  },
  {
   "cell_type": "markdown",
   "metadata": {},
   "source": [
    "## Cell 7: Save Model Weights"
   ]
  },
  {
   "cell_type": "code",
   "execution_count": 27,
   "metadata": {},
   "outputs": [],
   "source": [
    "# Save model weights\n",
    "model.save_weights('./model.weights.h5')"
   ]
  },
  {
   "cell_type": "markdown",
   "metadata": {},
   "source": [
    "## Cell 8: Load Model Weights and Predict"
   ]
  },
  {
   "cell_type": "code",
   "execution_count": 34,
   "metadata": {},
   "outputs": [
    {
     "name": "stdout",
     "output_type": "stream",
     "text": [
      "\u001b[1m1/1\u001b[0m \u001b[32m━━━━━━━━━━━━━━━━━━━━\u001b[0m\u001b[37m\u001b[0m \u001b[1m0s\u001b[0m 16ms/step\n",
      "Question: How to read a csv file with pandas?\n",
      "Predicted Tags: ('python',)\n",
      "Question: How to read a csv file in python?\n",
      "Predicted Tags: ()\n",
      "Question: What is the best metric for multilabel classification with a neural network?\n",
      "Predicted Tags: ('python',)\n",
      "Question: What is the capital of Paris?\n",
      "Predicted Tags: ()\n"
     ]
    }
   ],
   "source": [
    "# Load the model weights\n",
    "model.load_weights('./model.weights.h5')\n",
    "\n",
    "# New text data for prediction\n",
    "new_text = [\"How to read a csv file with pandas?\",\n",
    "            \"How to read a csv file in python?\",\n",
    "            \"What is the best metric for multilabel classification with a neural network?\", \n",
    "            \"What is the capital of Paris?\"]\n",
    "\n",
    "# Encode new texts using Word2Vec\n",
    "new_text_encoded = encode_texts_w2v(new_text, w2v_model)\n",
    "\n",
    "# Predict\n",
    "predicts = model.predict(new_text_encoded, batch_size=32)\n",
    "\n",
    "# Display predictions\n",
    "threshold = 0.25  # You can adjust this threshold\n",
    "\n",
    "# Get the predicted tags\n",
    "predicted_tags = (predicts > threshold).astype(int)\n",
    "\n",
    "# Transform predicted tags back to the original form\n",
    "predicted_tag_names = mlb.inverse_transform(predicted_tags)\n",
    "\n",
    "for i, text in enumerate(new_text):\n",
    "    print(f\"Question: {text}\")\n",
    "    print(f\"Predicted Tags: {predicted_tag_names[i]}\")"
   ]
  },
  {
   "cell_type": "markdown",
   "metadata": {},
   "source": [
    "## Visualize Embeddings"
   ]
  },
  {
   "cell_type": "code",
   "execution_count": null,
   "metadata": {},
   "outputs": [],
   "source": []
  }
 ],
 "metadata": {
  "kernelspec": {
   "display_name": ".venv",
   "language": "python",
   "name": "python3"
  },
  "language_info": {
   "codemirror_mode": {
    "name": "ipython",
    "version": 3
   },
   "file_extension": ".py",
   "mimetype": "text/x-python",
   "name": "python",
   "nbconvert_exporter": "python",
   "pygments_lexer": "ipython3",
   "version": "3.11.9"
  }
 },
 "nbformat": 4,
 "nbformat_minor": 2
}
